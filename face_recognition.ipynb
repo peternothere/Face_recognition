{
 "cells": [
  {
   "cell_type": "code",
   "execution_count": 14,
   "id": "4eefce38",
   "metadata": {},
   "outputs": [],
   "source": [
    "import cv2\n",
    "import os\n",
    "import numpy as np\n"
   ]
  },
  {
   "cell_type": "code",
   "execution_count": 15,
   "id": "31173c54",
   "metadata": {},
   "outputs": [],
   "source": [
    "subjects = [None,\"Mark Zuckerberg\",\"Akshay Kumar\"]"
   ]
  },
  {
   "cell_type": "code",
   "execution_count": 16,
   "id": "30814d0a",
   "metadata": {},
   "outputs": [],
   "source": [
    "def detect_face(img):\n",
    "    gray = cv2.cvtColor(img,cv2.COLOR_BGR2GRAY)\n",
    "    face_cascade = cv2.CascadeClassifier('./haarcascade_frontalface_default.xml')\n",
    "    faces = face_cascade.detectMultiScale(gray, scaleFactor=1.01, minNeighbors=1);\n",
    "    \n",
    "    if(len(faces) == 0):\n",
    "        return None,None\n",
    "    \n",
    "    x, y, w, h = faces[0]\n",
    "    return gray[y:y+w,x:x+h], faces[0]"
   ]
  },
  {
   "cell_type": "code",
   "execution_count": 26,
   "id": "f54dec88",
   "metadata": {},
   "outputs": [],
   "source": [
    "def prepare_training_data(data_folder_path):\n",
    "    dirs = os.listdir(data_folder_path)\n",
    "    faces = []\n",
    "    labels = []\n",
    "    \n",
    "    for dir_name in dirs:\n",
    "        if not dir_name.startswith(\"s\"):\n",
    "            continue;\n",
    "        label = int(dir_name.replace(\"s\",\"\"))\n",
    "        subject_dir_path = data_folder_path + \"/\" + dir_name\n",
    "        subject_images_names = os.listdir(subject_dir_path)\n",
    "        for image_name in subject_images_names:\n",
    "            if image_name.startswith(\".\"):\n",
    "                continue;\n",
    "                \n",
    "            image_path = subject_dir_path + \"/\" + image_name\n",
    "            image = cv2.imread(image_path)\n",
    "            face, rect = detect_face(image)\n",
    "            if face is not None:\n",
    "                print(image_name, \"Face detected\")\n",
    "                faces.append(face)\n",
    "                labels.append(label)\n",
    "            else:\n",
    "                print(image_name, \"Face not detected\")\n",
    "            cv2.destroyAllWindows()\n",
    "            cv2.waitKey(1)\n",
    "        cv2.destroyAllWindows()\n",
    "        \n",
    "    return faces, labels"
   ]
  },
  {
   "cell_type": "code",
   "execution_count": 28,
   "id": "285c9793",
   "metadata": {},
   "outputs": [
    {
     "name": "stdout",
     "output_type": "stream",
     "text": [
      "Preparing Data...\n",
      "mark1.jpeg Face detected\n",
      "mark3.webp Face detected\n",
      "mark.jpeg Face detected\n",
      "akshay_1.jpg Face detected\n",
      "akshay_kumar.jpg Face detected\n",
      "Akshay.jpg Face detected\n",
      "Data prepared\n",
      "Total faces:  6\n",
      "Total labels:  6\n"
     ]
    }
   ],
   "source": [
    "print(\"Preparing Data...\")\n",
    "faces, labels = prepare_training_data(\"training_face\")\n",
    "print(\"Data prepared\")\n",
    "\n",
    "print(\"Total faces: \", len(faces))\n",
    "print(\"Total labels: \", len(labels))"
   ]
  },
  {
   "cell_type": "code",
   "execution_count": 30,
   "id": "073b0ad9",
   "metadata": {},
   "outputs": [],
   "source": [
    "face_recognizer = cv2.face.LBPHFaceRecognizer_create()"
   ]
  },
  {
   "cell_type": "code",
   "execution_count": 31,
   "id": "85b4e6a0",
   "metadata": {},
   "outputs": [],
   "source": [
    "face_recognizer.train(faces, np.array(labels))"
   ]
  },
  {
   "cell_type": "code",
   "execution_count": 32,
   "id": "dafad3a2",
   "metadata": {},
   "outputs": [],
   "source": [
    "def predict(test_img):\n",
    "    img = test_img.copy()\n",
    "    face,rect = detect_face(img)\n",
    "    \n",
    "    if face is None:\n",
    "        return False, \"No Face detected\"\n",
    "    \n",
    "    label = face_recognizer.predict(face)\n",
    "    label_text = subjects[label[0]]\n",
    "    \n",
    "    return True, label_text"
   ]
  },
  {
   "cell_type": "code",
   "execution_count": 33,
   "id": "bb02d800",
   "metadata": {},
   "outputs": [
    {
     "name": "stdout",
     "output_type": "stream",
     "text": [
      "Predicting images...\n",
      "Image 1 Akshay Kumar\n",
      "----------------\n",
      "Image 2 Akshay Kumar\n",
      "Prediction complete\n"
     ]
    }
   ],
   "source": [
    "print(\"Predicting images...\")\n",
    "test_img1 = cv2.imread(\"testing_face/test1.jpg\")\n",
    "detected1, predicted_img1 = predict(test_img1)\n",
    "if detected1:\n",
    "    print('Image 1', predicted_img1)\n",
    "else:\n",
    "    print(predicted_img1)\n",
    "\n",
    "print('----------------')\n",
    "\n",
    "test_img2 = cv2.imread(\"testing_face/test2.jpg\")\n",
    "detected2, predicted_img2 = predict(test_img2)\n",
    "if detected2:\n",
    "    print('Image 2', predicted_img2)\n",
    "else:\n",
    "    print(predicted_img2)\n",
    "    \n",
    "print(\"Prediction complete\")\n",
    "\n",
    "\n",
    "    \n"
   ]
  }
 ],
 "metadata": {
  "kernelspec": {
   "display_name": "Python 3 (ipykernel)",
   "language": "python",
   "name": "python3"
  },
  "language_info": {
   "codemirror_mode": {
    "name": "ipython",
    "version": 3
   },
   "file_extension": ".py",
   "mimetype": "text/x-python",
   "name": "python",
   "nbconvert_exporter": "python",
   "pygments_lexer": "ipython3",
   "version": "3.10.12"
  }
 },
 "nbformat": 4,
 "nbformat_minor": 5
}
